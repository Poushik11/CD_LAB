{
  "nbformat": 4,
  "nbformat_minor": 0,
  "metadata": {
    "colab": {
      "provenance": []
    },
    "kernelspec": {
      "name": "python3",
      "display_name": "Python 3"
    },
    "language_info": {
      "name": "python"
    }
  },
  "cells": [
    {
      "cell_type": "markdown",
      "source": [
        "###Name:Poushik Yelne\n",
        "###Roll No.51\n",
        "### Practical No.4\n",
        "\n",
        "####Aim:Write a program to validate a string using the parsing table generated in practical 3. Consider valid &amp; invalid string &amp; print the stack &amp; buffer input tracing."
      ],
      "metadata": {
        "id": "Ywc7enRN2IHI"
      }
    },
    {
      "cell_type": "code",
      "execution_count": null,
      "metadata": {
        "id": "PzhihTtxXZC4"
      },
      "outputs": [],
      "source": [
        "#first\n",
        "def first(string):\n",
        "    first_ = set()\n",
        "    if string in non_terminals:\n",
        "        alternatives = productions_dict[string]\n",
        "        for alternative in alternatives:\n",
        "            first_2 = first(alternative)\n",
        "            first_ = first_ |first_2\n",
        "\n",
        "    elif string in terminals:\n",
        "        first_ = {string}\n",
        "    elif string=='' or string=='#':\n",
        "        first_ = {'#'}\n",
        "    else:\n",
        "        first_2 = first(string[0])\n",
        "        if '#' in first_2:\n",
        "            i = 1\n",
        "            while '#' in first_2:\n",
        "                first_ = first_ | (first_2 - {'#'})\n",
        "                if string[i:] in terminals:\n",
        "                    first_ = first_ | {string[i:]}\n",
        "                    break\n",
        "                elif string[i:] == '':\n",
        "                    first_ = first_ | {'#'}\n",
        "                    break\n",
        "                first_2 = first(string[i:])\n",
        "                first_ = first_ | first_2 - {'#'}\n",
        "                i += 1\n",
        "        else:\n",
        "            first_ = first_ | first_2\n",
        "\n",
        "    return  first_"
      ]
    },
    {
      "cell_type": "code",
      "source": [
        "# follow cal\n",
        "def follow(nonTerminal):\n",
        "    follow_ = set()\n",
        "    prods = productions_dict.items()\n",
        "    if nonTerminal==starting_symbol:\n",
        "        follow_ = follow_ | {'$'}\n",
        "    for nt,rhs in prods:\n",
        "        for alt in rhs:\n",
        "            for char in alt:\n",
        "                if char==nonTerminal:\n",
        "                    following_str = alt[alt.index(char) + 1:]\n",
        "                    if following_str=='':\n",
        "                        if nt==nonTerminal:\n",
        "                            continue\n",
        "                        else:\n",
        "                            follow_ = follow_ | follow(nt)\n",
        "                    else:\n",
        "                        follow_2 = first(following_str)\n",
        "                        if '#' in follow_2:\n",
        "                            follow_ = follow_ | follow_2-{'#'}\n",
        "                            follow_ = follow_ | follow(nt)\n",
        "                        else:\n",
        "                            follow_ = follow_ | follow_2\n",
        "    return follow_"
      ],
      "metadata": {
        "id": "wXO9u4AfXZ-n"
      },
      "execution_count": null,
      "outputs": []
    },
    {
      "cell_type": "code",
      "source": [
        "no_of_terminals=int(input(\"Enter no. of terminals: \"))\n",
        "\n",
        "terminals = ['$']\n",
        "\n",
        "print(\"Enter the terminals :\")\n",
        "for _ in range(no_of_terminals):\n",
        "    terminals.append(input())\n",
        "\n",
        "no_of_non_terminals=int(input(\"Enter no of non terminals: \"))\n",
        "\n",
        "non_terminals = ['S']\n",
        "\n",
        "print(\"Enter the non terminals :\")\n",
        "for _ in range(no_of_non_terminals-1):\n",
        "    non_terminals.append(input())\n",
        "\n",
        "starting_symbol = input(\"Enter the starting symbol: \")\n",
        "\n",
        "no_of_productions = int(input(\"Enter no of productions: \"))\n",
        "\n",
        "productions = []\n",
        "\n",
        "print(\"Enter the productions:\")\n",
        "for _ in range(no_of_productions):\n",
        "    productions.append(input())\n",
        "\n",
        "productions_dict = {}\n",
        "\n",
        "for nT in non_terminals:\n",
        "    productions_dict[nT] = []\n",
        "\n",
        "for production in productions:\n",
        "    nonterm_to_prod = production.split(\"->\")\n",
        "    alternatives = nonterm_to_prod[1].split(\"|\")\n",
        "    for alternative in alternatives:\n",
        "        productions_dict[nonterm_to_prod[0]].append(alternative)\n",
        "\n",
        "FIRST = {}\n",
        "FOLLOW = {}\n",
        "for non_terminal in non_terminals:\n",
        "    FIRST[non_terminal] = set()\n",
        "\n",
        "for non_terminal in non_terminals:\n",
        "    FOLLOW[non_terminal] = set()\n",
        "\n",
        "for non_terminal in non_terminals:\n",
        "    FIRST[non_terminal] = FIRST[non_terminal] | first(non_terminal)\n",
        "\n",
        "FOLLOW[starting_symbol] = FOLLOW[starting_symbol] | {'$'}\n",
        "for non_terminal in non_terminals:\n",
        "    FOLLOW[non_terminal] = FOLLOW[non_terminal] | follow(non_terminal)\n",
        "\n",
        "print(\"{: ^20}{: ^20}{: ^20}\".format('Non Terminals','First','Follow'))\n",
        "for non_terminal in non_terminals:\n",
        "    print(\"{: ^20}{: ^20}{: ^20}\".format(non_terminal,str(FIRST[non_terminal]),str(FOLLOW[non_terminal])))\n",
        "# S->AB|C\n",
        "# A->a|b|#\n",
        "# B->p|#\n",
        "# C->c"
      ],
      "metadata": {
        "colab": {
          "base_uri": "https://localhost:8080/"
        },
        "id": "i8QerV3QXcGo",
        "outputId": "cbe6c3f0-101f-47f4-f5c7-ebbcb71f315f"
      },
      "execution_count": null,
      "outputs": [
        {
          "output_type": "stream",
          "name": "stdout",
          "text": [
            "Enter no. of terminals: 4\n",
            "Enter the terminals :\n",
            "a\n",
            "b\n",
            "c\n",
            "p\n",
            "Enter no of non terminals: 4\n",
            "Enter the non terminals :\n",
            "A\n",
            "B\n",
            "C\n",
            "Enter the starting symbol: S\n",
            "Enter no of productions: 4\n",
            "Enter the productions:\n",
            "S->AB|C\n",
            "A->a|b|#\n",
            "B->p|#\n",
            "C->c\n",
            "   Non Terminals           First               Follow       \n",
            "         S          {'b', '#', 'c', 'p', 'a'}       {'$'}        \n",
            "         A            {'b', '#', 'a'}        {'$', 'p'}     \n",
            "         B               {'#', 'p'}            {'$'}        \n",
            "         C                 {'c'}               {'$'}        \n"
          ]
        }
      ]
    },
    {
      "cell_type": "code",
      "source": [
        "def solve_table():\n",
        "    ll1_table = {}\n",
        "    for non_terminal in non_terminals:\n",
        "        ll1_table[non_terminal] = {}\n",
        "        for terminal in terminals:\n",
        "            ll1_table[non_terminal][terminal] = []\n",
        "\n",
        "    for non_terminal, productions in productions_dict.items():\n",
        "        for production in productions:\n",
        "            first_set = first(production)\n",
        "            for terminal in first_set:\n",
        "                if terminal != '#':\n",
        "                    ll1_table[non_terminal][terminal].append(production)\n",
        "            if '#' in first_set:\n",
        "                for terminal in FOLLOW[non_terminal]:\n",
        "                    ll1_table[non_terminal][terminal].append(production)\n",
        "            if '#' in first_set and '$' in FOLLOW[non_terminal]:\n",
        "                ll1_table[non_terminal]['$'].append(production)\n",
        "    return ll1_table\n",
        "\n",
        "def solve(ll1_table):\n",
        "    for non_terminal, row in ll1_table.items():\n",
        "        print(f\"{non_terminal} -> {row}\")\n",
        "\n",
        "table = solve_table()\n",
        "solve(table)"
      ],
      "metadata": {
        "colab": {
          "base_uri": "https://localhost:8080/"
        },
        "id": "_khm0GB_X39Z",
        "outputId": "48a61a23-1932-4ec7-df23-1fd2b36fa2bc"
      },
      "execution_count": null,
      "outputs": [
        {
          "output_type": "stream",
          "name": "stdout",
          "text": [
            "S -> {'$': ['AB', 'AB'], 'a': ['AB'], 'b': ['AB'], 'c': ['C'], 'p': ['AB']}\n",
            "A -> {'$': ['#', '#'], 'a': ['a'], 'b': ['b'], 'c': [], 'p': ['#']}\n",
            "B -> {'$': ['#', '#'], 'a': [], 'b': [], 'c': [], 'p': ['p']}\n",
            "C -> {'$': [], 'a': [], 'b': [], 'c': ['c'], 'p': []}\n"
          ]
        }
      ]
    },
    {
      "cell_type": "code",
      "source": [
        "start_symbol = input(\"Enter the start symbol: \")\n",
        "string = input(\"Enter the string to be validated: \")\n",
        "\n",
        "stack = [start_symbol+'$']\n",
        "buffer = [(string+'$')[::-1]]\n",
        "\n",
        "print(f\"String reverssd: {buffer[0]}\")\n",
        "\n",
        "parsing_table = {\n",
        "    # follow for epshilon\n",
        "  'S': [('$', '#'), ('a', 'AB'), ('p', 'AB'), ('b', 'AB'), ('c', 'C')],\n",
        "  'A': [('$', '#'), ('b', 'b'), ('p', ' '), ('a', 'a'), ('c', ' ')],\n",
        "  'B': [('$', '#'), ('b', ' '), ('c', ' '), ('a', ' '), ('p', 'p')],\n",
        "  'C': [('$', ' '), ('p', ' '), ('b', ' '), ('c', 'c'), ('a', ' ')]\n",
        "}\n",
        "\n",
        "def Rule(string, start_symbol):\n",
        "  if start_symbol not in parsing_table:\n",
        "    return []\n",
        "  i = parsing_table[start_symbol]\n",
        "  for j, k in i:\n",
        "    if j == string.strip():\n",
        "      return [j, k]\n",
        "  return []\n",
        "\n",
        "def solve():\n",
        "  string = list(buffer.pop())\n",
        "  string1 = list(stack.pop())\n",
        "  while len(string):\n",
        "    top = string[-1]\n",
        "    top1 = string1[0]\n",
        "    if top == top1:\n",
        "      string.pop()\n",
        "      string1.pop(0)\n",
        "      print(string, string1)\n",
        "      continue\n",
        "    rule = Rule(top, top1)\n",
        "    if not rule:\n",
        "      print(\"False\")\n",
        "      return 0\n",
        "    print(f\"Rule: {top1}->{rule[1]}\")\n",
        "    string1.pop(0)\n",
        "    string1 = list(rule[1]) + string1\n",
        "    print(string, string1)\n",
        "\n",
        "  return 1\n",
        "# Examples: ap,c,abnot\n",
        "if solve():\n",
        "  print(\"String Valid\")\n",
        "else:\n",
        "  print(\"String not valid\")"
      ],
      "metadata": {
        "colab": {
          "base_uri": "https://localhost:8080/"
        },
        "id": "1opZEyuLYBoE",
        "outputId": "697a469b-bd43-4a15-951c-c7cda1896860"
      },
      "execution_count": null,
      "outputs": [
        {
          "output_type": "stream",
          "name": "stdout",
          "text": [
            "Enter the start symbol: S\n",
            "Enter the string to be validated: ap\n",
            "String reverssd: $pa\n",
            "Rule: S->AB\n",
            "['$', 'p', 'a'] ['A', 'B', '$']\n",
            "Rule: A->a\n",
            "['$', 'p', 'a'] ['a', 'B', '$']\n",
            "['$', 'p'] ['B', '$']\n",
            "Rule: B->p\n",
            "['$', 'p'] ['p', '$']\n",
            "['$'] ['$']\n",
            "[] []\n",
            "String Valid\n"
          ]
        }
      ]
    },
    {
      "cell_type": "code",
      "source": [
        "start_symbol = input(\"Enter the start symbol: \")\n",
        "string = input(\"Enter the string to be validated: \")\n",
        "\n",
        "stack = [start_symbol+'$']\n",
        "buffer = [(string+'$')[::-1]]\n",
        "\n",
        "print(f\"String reverssd: {buffer[0]}\")\n",
        "\n",
        "parsing_table = {\n",
        "    # follow for epshilon\n",
        "  'S': [('$', '#'), ('a', 'AB'), ('p', 'AB'), ('b', 'AB'), ('c', 'C')],\n",
        "  'A': [('$', '#'), ('b', 'b'), ('p', ' '), ('a', 'a'), ('c', ' ')],\n",
        "  'B': [('$', '#'), ('b', ' '), ('c', ' '), ('a', ' '), ('p', 'p')],\n",
        "  'C': [('$', ' '), ('p', ' '), ('b', ' '), ('c', 'c'), ('a', ' ')]\n",
        "}\n",
        "\n",
        "def Rule(string, start_symbol):\n",
        "  if start_symbol not in parsing_table:\n",
        "    return []\n",
        "  i = parsing_table[start_symbol]\n",
        "  for j, k in i:\n",
        "    if j == string.strip():\n",
        "      return [j, k]\n",
        "  return []\n",
        "\n",
        "def solve():\n",
        "  string = list(buffer.pop())\n",
        "  string1 = list(stack.pop())\n",
        "  while len(string):\n",
        "    top = string[-1]\n",
        "    top1 = string1[0]\n",
        "    if top == top1:\n",
        "      string.pop()\n",
        "      string1.pop(0)\n",
        "      print(string, string1)\n",
        "      continue\n",
        "    rule = Rule(top, top1)\n",
        "    if not rule:\n",
        "      print(\"False\")\n",
        "      return 0\n",
        "    print(f\"Rule: {top1}->{rule[1]}\")\n",
        "    string1.pop(0)\n",
        "    string1 = list(rule[1]) + string1\n",
        "    print(string, string1)\n",
        "\n",
        "  return 1\n",
        "# Examples: ap,c,abnot\n",
        "if solve():\n",
        "  print(\"String Valid\")\n",
        "else:\n",
        "  print(\"String not valid\")"
      ],
      "metadata": {
        "colab": {
          "base_uri": "https://localhost:8080/"
        },
        "id": "wE--zheD7DgW",
        "outputId": "5bb72bd5-cafa-4106-cdbd-281c508d3736"
      },
      "execution_count": null,
      "outputs": [
        {
          "output_type": "stream",
          "name": "stdout",
          "text": [
            "Enter the start symbol: S\n",
            "Enter the string to be validated: abc\n",
            "String reverssd: $cba\n",
            "Rule: S->AB\n",
            "['$', 'c', 'b', 'a'] ['A', 'B', '$']\n",
            "Rule: A->a\n",
            "['$', 'c', 'b', 'a'] ['a', 'B', '$']\n",
            "['$', 'c', 'b'] ['B', '$']\n",
            "Rule: B-> \n",
            "['$', 'c', 'b'] [' ', '$']\n",
            "False\n",
            "String not valid\n"
          ]
        }
      ]
    }
  ]
}